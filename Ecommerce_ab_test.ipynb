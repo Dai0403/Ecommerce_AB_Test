{
 "cells": [
  {
   "cell_type": "markdown",
   "id": "f3442c6f-17f8-4b66-aa07-663b240fe8b9",
   "metadata": {},
   "source": [
    "# E-commerce Product Design A/B testing "
   ]
  },
  {
   "cell_type": "markdown",
   "id": "215eded6-3e2f-4087-890e-3c8b412b9e39",
   "metadata": {},
   "source": [
    "## 1.Desinging our experiment \n",
    "- Creating a hypothesis\n",
    "    - Two tailed test\n",
    "    - Confidence level of 95% (α = 0.05)\n",
    "<br></br>\n",
    "\n",
    "- Choosing the variables\n",
    "    - Control group\n",
    "    - Treatment group\n",
    "<br></br>\n",
    "- Choosing a sample size \n",
    "\n"
   ]
  },
  {
   "cell_type": "markdown",
   "id": "4ec37cef-d361-4c97-ab54-61c65da91ec6",
   "metadata": {},
   "source": [
    "## Choosing a sample size"
   ]
  },
  {
   "cell_type": "code",
   "execution_count": 11,
   "id": "6f2893c4-4788-4615-8b1b-bdf4722dc9cb",
   "metadata": {},
   "outputs": [
    {
     "name": "stdout",
     "output_type": "stream",
     "text": [
      "4720\n"
     ]
    }
   ],
   "source": [
    "# Packages imports\n",
    "import numpy as np\n",
    "import pandas as pd\n",
    "import scipy.stats as stats\n",
    "import statsmodels.stats.api as sms\n",
    "import matplotlib as mpl\n",
    "import matplotlib.pyplot as plt\n",
    "import seaborn as sns\n",
    "from math import ceil\n",
    "from matplotlib.font_manager import FontProperties\n",
    "\n",
    "%matplotlib inline\n",
    "\n",
    "# Some plot styling preferences\n",
    "sns.set_style('whitegrid')\n",
    "font = {'family' : 'Helvetica',\n",
    "        'weight' : 'bold',\n",
    "        'size'   : 14}\n",
    "\n",
    "mpl.rc('font', **font)\n",
    "\n",
    "# Calculating effect size based on our expected rates\n",
    "effect_size = sms.proportion_effectsize(0.13, 0.15)   \n",
    "\n",
    " # Calculating sample size needed \n",
    "required_n = sms.NormalIndPower().solve_power(\n",
    "    effect_size, \n",
    "    power=0.8, \n",
    "    alpha=0.05, \n",
    "    ratio=1\n",
    "    )                \n",
    "# Rounding up to next whole number \n",
    "required_n = ceil(required_n)                                                   \n",
    "\n",
    "\n",
    "print(required_n)"
   ]
  },
  {
   "cell_type": "markdown",
   "id": "b03497ac-430a-4de5-8c6f-0b4341d4a7c6",
   "metadata": {},
   "source": [
    "## 2. Collecting and preparing the data"
   ]
  },
  {
   "cell_type": "markdown",
   "id": "2dd817b0-4769-4dda-80c6-73fa18bbbdb0",
   "metadata": {},
   "source": [
    "### Loading the data\n"
   ]
  },
  {
   "cell_type": "code",
   "execution_count": 12,
   "id": "612066d7-5010-4032-b07c-4832dc9fff0c",
   "metadata": {},
   "outputs": [
    {
     "name": "stdout",
     "output_type": "stream",
     "text": [
      "        user_id                   timestamp      group landing_page  converted\n",
      "0        851104  2017-01-21 22:11:48.556739    control     old_page          0\n",
      "1        804228  2017-01-12 08:01:45.159739    control     old_page          0\n",
      "2        661590  2017-01-11 16:55:06.154213  treatment     new_page          0\n",
      "3        853541  2017-01-08 18:28:03.143765  treatment     new_page          0\n",
      "4        864975  2017-01-21 01:52:26.210827    control     old_page          1\n",
      "...         ...                         ...        ...          ...        ...\n",
      "294473   751197  2017-01-03 22:28:38.630509    control     old_page          0\n",
      "294474   945152  2017-01-12 00:51:57.078372    control     old_page          0\n",
      "294475   734608  2017-01-22 11:45:03.439544    control     old_page          0\n",
      "294476   697314  2017-01-15 01:20:28.957438    control     old_page          0\n",
      "294477   715931  2017-01-16 12:40:24.467417  treatment     new_page          0\n",
      "\n",
      "[294478 rows x 5 columns]\n"
     ]
    }
   ],
   "source": [
    "file_path = 'ab_data.csv'\n",
    "df = pd.read_csv(file_path)\n",
    "print(df)"
   ]
  },
  {
   "cell_type": "code",
   "execution_count": 13,
   "id": "7bd06735-5544-460a-9b0d-7fe568a07fa4",
   "metadata": {},
   "outputs": [
    {
     "name": "stdout",
     "output_type": "stream",
     "text": [
      "<class 'pandas.core.frame.DataFrame'>\n",
      "RangeIndex: 294478 entries, 0 to 294477\n",
      "Data columns (total 5 columns):\n",
      " #   Column        Non-Null Count   Dtype \n",
      "---  ------        --------------   ----- \n",
      " 0   user_id       294478 non-null  int64 \n",
      " 1   timestamp     294478 non-null  object\n",
      " 2   group         294478 non-null  object\n",
      " 3   landing_page  294478 non-null  object\n",
      " 4   converted     294478 non-null  int64 \n",
      "dtypes: int64(2), object(3)\n",
      "memory usage: 11.2+ MB\n"
     ]
    }
   ],
   "source": [
    "df.info()"
   ]
  },
  {
   "cell_type": "markdown",
   "id": "5e10cf7d-d0f4-47f0-b27f-51690832dbe2",
   "metadata": {},
   "source": [
    "### Checking the distribution of data\n"
   ]
  },
  {
   "cell_type": "code",
   "execution_count": 32,
   "id": "7230e531-8029-4e8e-9679-8d5fc686fc6f",
   "metadata": {},
   "outputs": [
    {
     "name": "stdout",
     "output_type": "stream",
     "text": [
      "Minimum Timestamp: 2017-01-02 13:42:05.378582\n",
      "Maximum Timestamp: 2017-01-24 13:41:54.460509\n"
     ]
    }
   ],
   "source": [
    "# showing min and max values to spot unusual date\n",
    "min_timestamp = df['timestamp'].min()\n",
    "max_timestamp = df['timestamp'].max()\n",
    "\n",
    "print(f\"Minimum Timestamp: {min_timestamp}\")\n",
    "print(f\"Maximum Timestamp: {max_timestamp}\")"
   ]
  },
  {
   "cell_type": "code",
   "execution_count": 15,
   "id": "25ee9514-23e5-45dc-bf04-dc210ecc38d6",
   "metadata": {},
   "outputs": [
    {
     "data": {
      "image/png": "[encoded data removed]",
      "text/plain": [
       "<Figure size 640x480 with 1 Axes>"
      ]
     },
     "metadata": {},
     "output_type": "display_data"
    }
   ],
   "source": [
    "# Showing the distribution of groups \n",
    "fig, ax3 = plt.subplots()\n",
    "df['group'].value_counts().plot(kind='bar', ax=ax3)\n",
    "ax3.set_title('Distribution of Groups')\n",
    "ax3.set_xlabel('Group')\n",
    "ax3.set_ylabel('Count')\n",
    "plt.show()"
   ]
  },
  {
   "cell_type": "code",
   "execution_count": 16,
   "id": "d7ffb1ae-e913-401b-b276-d2cdacd0c3c3",
   "metadata": {},
   "outputs": [
    {
     "data": {
      "image/png": "[encoded data removed]",
      "text/plain": [
       "<Figure size 640x480 with 1 Axes>"
      ]
     },
     "metadata": {},
     "output_type": "display_data"
    }
   ],
   "source": [
    "# Showing the distribution of groups \n",
    "df['landing_page'].value_counts().plot(kind='bar')\n",
    "plt.title('Distribution of Landing Pages')\n",
    "plt.xlabel('Landing Page')\n",
    "plt.ylabel('Count')\n",
    "plt.show()"
   ]
  },
  {
   "cell_type": "code",
   "execution_count": 36,
   "id": "51aea54d-8541-47b1-b06a-4eed4a1c0bd9",
   "metadata": {},
   "outputs": [
    {
     "data": {
      "image/png": "[encoded data removed]",
      "text/plain": [
       "<Figure size 640x480 with 1 Axes>"
      ]
     },
     "metadata": {},
     "output_type": "display_data"
    }
   ],
   "source": [
    "# Showing the distribution of converted values\n",
    "# 0 - The user did not buy the product during this user session\n",
    "# 1 - The user bought the product during this user session\n",
    "\n",
    "df['converted'].value_counts().plot(kind = 'bar')\n",
    "plt.title('Distribution of Converted Values')\n",
    "plt.xlabel('Converted')\n",
    "plt.ylabel('Count')\n",
    "plt.show()"
   ]
  },
  {
   "cell_type": "code",
   "execution_count": 37,
   "id": "edde0890-8489-4fed-826c-f897a839bd99",
   "metadata": {},
   "outputs": [
    {
     "data": {
      "text/html": [
       "<div>\n",
       "<style scoped>\n",
       "    .dataframe tbody tr th:only-of-type {\n",
       "        vertical-align: middle;\n",
       "    }\n",
       "\n",
       "    .dataframe tbody tr th {\n",
       "        vertical-align: top;\n",
       "    }\n",
       "\n",
       "    .dataframe thead th {\n",
       "        text-align: right;\n",
       "    }\n",
       "</style>\n",
       "<table border=\"1\" class=\"dataframe\">\n",
       "  <thead>\n",
       "    <tr style=\"text-align: right;\">\n",
       "      <th>landing_page</th>\n",
       "      <th>new_page</th>\n",
       "      <th>old_page</th>\n",
       "    </tr>\n",
       "    <tr>\n",
       "      <th>group</th>\n",
       "      <th></th>\n",
       "      <th></th>\n",
       "    </tr>\n",
       "  </thead>\n",
       "  <tbody>\n",
       "    <tr>\n",
       "      <th>control</th>\n",
       "      <td>1928</td>\n",
       "      <td>145274</td>\n",
       "    </tr>\n",
       "    <tr>\n",
       "      <th>treatment</th>\n",
       "      <td>145311</td>\n",
       "      <td>1965</td>\n",
       "    </tr>\n",
       "  </tbody>\n",
       "</table>\n",
       "</div>"
      ],
      "text/plain": [
       "landing_page  new_page  old_page\n",
       "group                           \n",
       "control           1928    145274\n",
       "treatment       145311      1965"
      ]
     },
     "execution_count": 37,
     "metadata": {},
     "output_type": "execute_result"
    }
   ],
   "source": [
    "# Making sure all the control group are seeing the old page and viceversa\n",
    "pd.crosstab(df['group'], df['landing_page'])"
   ]
  },
  {
   "cell_type": "code",
   "execution_count": 19,
   "id": "c93d592d-8815-42e7-be41-33472c3c32b6",
   "metadata": {},
   "outputs": [
    {
     "name": "stdout",
     "output_type": "stream",
     "text": [
      "There are 3894 users that appear multiple times in the dataset\n"
     ]
    }
   ],
   "source": [
    "# Checking the count of occurence \n",
    "session_counts = df['user_id'].value_counts(ascending=False)\n",
    "\n",
    "# Getting the number of users that have multiple sessions\n",
    "multi_users = session_counts[session_counts > 1].count()\n",
    "\n",
    "print(f'There are {multi_users} users that appear multiple times in the dataset')"
   ]
  },
  {
   "cell_type": "code",
   "execution_count": 20,
   "id": "ab25e300-3fb0-4806-89d5-936f72efab97",
   "metadata": {},
   "outputs": [
    {
     "name": "stdout",
     "output_type": "stream",
     "text": [
      "After dropping there are 286690 entries left\n"
     ]
    }
   ],
   "source": [
    "drop_users = session_counts[session_counts > 1].index\n",
    "new_df = df[~df['user_id'].isin(drop_users)]\n",
    "print(f'After dropping there are {new_df.shape[0]} entries left')"
   ]
  },
  {
   "cell_type": "code",
   "execution_count": 38,
   "id": "8311ef35-d61a-46f8-8497-b885b00c41b8",
   "metadata": {},
   "outputs": [
    {
     "data": {
      "text/html": [
       "<div>\n",
       "<style scoped>\n",
       "    .dataframe tbody tr th:only-of-type {\n",
       "        vertical-align: middle;\n",
       "    }\n",
       "\n",
       "    .dataframe tbody tr th {\n",
       "        vertical-align: top;\n",
       "    }\n",
       "\n",
       "    .dataframe thead th {\n",
       "        text-align: right;\n",
       "    }\n",
       "</style>\n",
       "<table border=\"1\" class=\"dataframe\">\n",
       "  <thead>\n",
       "    <tr style=\"text-align: right;\">\n",
       "      <th>landing_page</th>\n",
       "      <th>new_page</th>\n",
       "      <th>old_page</th>\n",
       "    </tr>\n",
       "    <tr>\n",
       "      <th>group</th>\n",
       "      <th></th>\n",
       "      <th></th>\n",
       "    </tr>\n",
       "  </thead>\n",
       "  <tbody>\n",
       "    <tr>\n",
       "      <th>control</th>\n",
       "      <td>0</td>\n",
       "      <td>143293</td>\n",
       "    </tr>\n",
       "    <tr>\n",
       "      <th>treatment</th>\n",
       "      <td>143397</td>\n",
       "      <td>0</td>\n",
       "    </tr>\n",
       "  </tbody>\n",
       "</table>\n",
       "</div>"
      ],
      "text/plain": [
       "landing_page  new_page  old_page\n",
       "group                           \n",
       "control              0    143293\n",
       "treatment       143397         0"
      ]
     },
     "execution_count": 38,
     "metadata": {},
     "output_type": "execute_result"
    }
   ],
   "source": [
    "pd.crosstab(new_df['group'], new_df['landing_page'])"
   ]
  },
  {
   "cell_type": "markdown",
   "id": "59013877-78f5-48a3-9f64-e9c075df8581",
   "metadata": {},
   "source": [
    "## Sampling"
   ]
  },
  {
   "cell_type": "code",
   "execution_count": 23,
   "id": "f3d68e14-e1f8-43e6-b45d-206e8d9572eb",
   "metadata": {},
   "outputs": [
    {
     "data": {
      "text/html": [
       "<div>\n",
       "<style scoped>\n",
       "    .dataframe tbody tr th:only-of-type {\n",
       "        vertical-align: middle;\n",
       "    }\n",
       "\n",
       "    .dataframe tbody tr th {\n",
       "        vertical-align: top;\n",
       "    }\n",
       "\n",
       "    .dataframe thead th {\n",
       "        text-align: right;\n",
       "    }\n",
       "</style>\n",
       "<table border=\"1\" class=\"dataframe\">\n",
       "  <thead>\n",
       "    <tr style=\"text-align: right;\">\n",
       "      <th></th>\n",
       "      <th>user_id</th>\n",
       "      <th>timestamp</th>\n",
       "      <th>group</th>\n",
       "      <th>landing_page</th>\n",
       "      <th>converted</th>\n",
       "    </tr>\n",
       "  </thead>\n",
       "  <tbody>\n",
       "    <tr>\n",
       "      <th>0</th>\n",
       "      <td>763854</td>\n",
       "      <td>2017-01-21 03:43:17.188315</td>\n",
       "      <td>control</td>\n",
       "      <td>old_page</td>\n",
       "      <td>0</td>\n",
       "    </tr>\n",
       "    <tr>\n",
       "      <th>1</th>\n",
       "      <td>690555</td>\n",
       "      <td>2017-01-18 06:38:13.079449</td>\n",
       "      <td>control</td>\n",
       "      <td>old_page</td>\n",
       "      <td>0</td>\n",
       "    </tr>\n",
       "    <tr>\n",
       "      <th>2</th>\n",
       "      <td>861520</td>\n",
       "      <td>2017-01-06 21:13:40.044766</td>\n",
       "      <td>control</td>\n",
       "      <td>old_page</td>\n",
       "      <td>0</td>\n",
       "    </tr>\n",
       "    <tr>\n",
       "      <th>3</th>\n",
       "      <td>630778</td>\n",
       "      <td>2017-01-05 16:42:36.995204</td>\n",
       "      <td>control</td>\n",
       "      <td>old_page</td>\n",
       "      <td>0</td>\n",
       "    </tr>\n",
       "    <tr>\n",
       "      <th>4</th>\n",
       "      <td>656634</td>\n",
       "      <td>2017-01-04 15:31:21.676130</td>\n",
       "      <td>control</td>\n",
       "      <td>old_page</td>\n",
       "      <td>0</td>\n",
       "    </tr>\n",
       "    <tr>\n",
       "      <th>...</th>\n",
       "      <td>...</td>\n",
       "      <td>...</td>\n",
       "      <td>...</td>\n",
       "      <td>...</td>\n",
       "      <td>...</td>\n",
       "    </tr>\n",
       "    <tr>\n",
       "      <th>9435</th>\n",
       "      <td>908512</td>\n",
       "      <td>2017-01-14 22:02:29.922674</td>\n",
       "      <td>treatment</td>\n",
       "      <td>new_page</td>\n",
       "      <td>0</td>\n",
       "    </tr>\n",
       "    <tr>\n",
       "      <th>9436</th>\n",
       "      <td>873211</td>\n",
       "      <td>2017-01-05 00:57:16.167151</td>\n",
       "      <td>treatment</td>\n",
       "      <td>new_page</td>\n",
       "      <td>0</td>\n",
       "    </tr>\n",
       "    <tr>\n",
       "      <th>9437</th>\n",
       "      <td>631276</td>\n",
       "      <td>2017-01-20 18:56:58.167809</td>\n",
       "      <td>treatment</td>\n",
       "      <td>new_page</td>\n",
       "      <td>0</td>\n",
       "    </tr>\n",
       "    <tr>\n",
       "      <th>9438</th>\n",
       "      <td>662301</td>\n",
       "      <td>2017-01-03 08:10:57.768806</td>\n",
       "      <td>treatment</td>\n",
       "      <td>new_page</td>\n",
       "      <td>0</td>\n",
       "    </tr>\n",
       "    <tr>\n",
       "      <th>9439</th>\n",
       "      <td>944623</td>\n",
       "      <td>2017-01-19 10:56:01.648653</td>\n",
       "      <td>treatment</td>\n",
       "      <td>new_page</td>\n",
       "      <td>1</td>\n",
       "    </tr>\n",
       "  </tbody>\n",
       "</table>\n",
       "<p>9440 rows × 5 columns</p>\n",
       "</div>"
      ],
      "text/plain": [
       "      user_id                   timestamp      group landing_page  converted\n",
       "0      763854  2017-01-21 03:43:17.188315    control     old_page          0\n",
       "1      690555  2017-01-18 06:38:13.079449    control     old_page          0\n",
       "2      861520  2017-01-06 21:13:40.044766    control     old_page          0\n",
       "3      630778  2017-01-05 16:42:36.995204    control     old_page          0\n",
       "4      656634  2017-01-04 15:31:21.676130    control     old_page          0\n",
       "...       ...                         ...        ...          ...        ...\n",
       "9435   908512  2017-01-14 22:02:29.922674  treatment     new_page          0\n",
       "9436   873211  2017-01-05 00:57:16.167151  treatment     new_page          0\n",
       "9437   631276  2017-01-20 18:56:58.167809  treatment     new_page          0\n",
       "9438   662301  2017-01-03 08:10:57.768806  treatment     new_page          0\n",
       "9439   944623  2017-01-19 10:56:01.648653  treatment     new_page          1\n",
       "\n",
       "[9440 rows x 5 columns]"
      ]
     },
     "execution_count": 23,
     "metadata": {},
     "output_type": "execute_result"
    }
   ],
   "source": [
    "# Setting random_state for reproducibility \n",
    "control_sample = new_df[new_df['group'] == 'control'].sample(n = required_n, random_state = 22)\n",
    "treatment_sample = new_df[new_df['group'] == 'treatment'].sample(n = required_n, random_state = 22)\n",
    "\n",
    "ab_test = pd.concat([control_sample, treatment_sample], axis = 0)\n",
    "ab_test.reset_index(drop = True, inplace=True)\n",
    "ab_test"
   ]
  },
  {
   "cell_type": "code",
   "execution_count": 24,
   "id": "b9e681ae-46b1-4bd4-97c4-2dc860070abe",
   "metadata": {},
   "outputs": [
    {
     "name": "stdout",
     "output_type": "stream",
     "text": [
      "<class 'pandas.core.frame.DataFrame'>\n",
      "RangeIndex: 9440 entries, 0 to 9439\n",
      "Data columns (total 5 columns):\n",
      " #   Column        Non-Null Count  Dtype \n",
      "---  ------        --------------  ----- \n",
      " 0   user_id       9440 non-null   int64 \n",
      " 1   timestamp     9440 non-null   object\n",
      " 2   group         9440 non-null   object\n",
      " 3   landing_page  9440 non-null   object\n",
      " 4   converted     9440 non-null   int64 \n",
      "dtypes: int64(2), object(3)\n",
      "memory usage: 368.9+ KB\n"
     ]
    }
   ],
   "source": [
    "ab_test.info()"
   ]
  },
  {
   "cell_type": "markdown",
   "id": "e5b98a94-e523-41f2-a56b-9d7ca8dbaa60",
   "metadata": {},
   "source": [
    "## 3. Visualizing the results"
   ]
  },
  {
   "cell_type": "markdown",
   "id": "857c7171-efbc-475b-99ae-025341c48635",
   "metadata": {},
   "source": [
    "### Basic statistics "
   ]
  },
  {
   "cell_type": "code",
   "execution_count": 25,
   "id": "3e613df6-9efc-4848-abe7-5c553a4052cd",
   "metadata": {},
   "outputs": [
    {
     "data": {
      "text/html": [
       "<style type=\"text/css\">\n",
       "</style>\n",
       "<table id=\"T_fdaff\">\n",
       "  <thead>\n",
       "    <tr>\n",
       "      <th class=\"blank level0\" >&nbsp;</th>\n",
       "      <th id=\"T_fdaff_level0_col0\" class=\"col_heading level0 col0\" >conversion_rate</th>\n",
       "      <th id=\"T_fdaff_level0_col1\" class=\"col_heading level0 col1\" >std_deviation</th>\n",
       "      <th id=\"T_fdaff_level0_col2\" class=\"col_heading level0 col2\" >std_error</th>\n",
       "    </tr>\n",
       "    <tr>\n",
       "      <th class=\"index_name level0\" >group</th>\n",
       "      <th class=\"blank col0\" >&nbsp;</th>\n",
       "      <th class=\"blank col1\" >&nbsp;</th>\n",
       "      <th class=\"blank col2\" >&nbsp;</th>\n",
       "    </tr>\n",
       "  </thead>\n",
       "  <tbody>\n",
       "    <tr>\n",
       "      <th id=\"T_fdaff_level0_row0\" class=\"row_heading level0 row0\" >control</th>\n",
       "      <td id=\"T_fdaff_row0_col0\" class=\"data row0 col0\" >0.123</td>\n",
       "      <td id=\"T_fdaff_row0_col1\" class=\"data row0 col1\" >0.329</td>\n",
       "      <td id=\"T_fdaff_row0_col2\" class=\"data row0 col2\" >0.005</td>\n",
       "    </tr>\n",
       "    <tr>\n",
       "      <th id=\"T_fdaff_level0_row1\" class=\"row_heading level0 row1\" >treatment</th>\n",
       "      <td id=\"T_fdaff_row1_col0\" class=\"data row1 col0\" >0.126</td>\n",
       "      <td id=\"T_fdaff_row1_col1\" class=\"data row1 col1\" >0.331</td>\n",
       "      <td id=\"T_fdaff_row1_col2\" class=\"data row1 col2\" >0.005</td>\n",
       "    </tr>\n",
       "  </tbody>\n",
       "</table>\n"
      ],
      "text/plain": [
       "<pandas.io.formats.style.Styler at 0x125057810>"
      ]
     },
     "execution_count": 25,
     "metadata": {},
     "output_type": "execute_result"
    }
   ],
   "source": [
    "# conversion rate\n",
    "conversion_rates = ab_test.groupby('group')['converted']\n",
    "\n",
    "# standard deviation of the proportion \n",
    "std_p = lambda x: np.std(x, ddof = 0)\n",
    "\n",
    "# standard deviation error of the proportion (std / sqrt(n))\n",
    "se_p = lambda x: stats.sem(x, ddof = 0)\n",
    "\n",
    "conversion_rates = conversion_rates.agg(['mean', std_p, se_p])\n",
    "conversion_rates.columns = ['conversion_rate', 'std_deviation', 'std_error']\n",
    "\n",
    "conversion_rates.style.format('{:.3f}')"
   ]
  },
  {
   "cell_type": "markdown",
   "id": "8e38f48b-65df-47e9-8527-37c84a41f524",
   "metadata": {},
   "source": [
    "### Visualizing the conversion rate"
   ]
  },
  {
   "cell_type": "code",
   "execution_count": 27,
   "id": "a12bcf20-de53-4b82-8942-f3361aa79a5d",
   "metadata": {},
   "outputs": [
    {
     "data": {
      "image/png": "[encoded data removed]",
      "text/plain": [
       "<Figure size 800x600 with 1 Axes>"
      ]
     },
     "metadata": {},
     "output_type": "display_data"
    }
   ],
   "source": [
    "col = sns.color_palette(\"tab10\")\n",
    "\n",
    "plt.figure(figsize = (8,6))\n",
    "colors = {'control': 'blue', 'treatment': 'light-orange'}\n",
    "\n",
    "sns.set_palette(\"bright\")\n",
    "\n",
    "sns.barplot(x='group', y='converted', data=ab_test, errorbar=('ci', False), palette = 'tab10',hue='group')\n",
    "font_properties = FontProperties(weight='normal', style='normal')\n",
    "plt.ylim(0, 0.17)\n",
    "plt.title('Conversion rate by group', pad=20)\n",
    "plt.xlabel('Group', labelpad = 15, font_properties = font_properties)\n",
    "plt.ylabel('Converted (%)', labelpad = 15, font_properties = font_properties);"
   ]
  },
  {
   "cell_type": "markdown",
   "id": "54ae5875-27d0-4889-9c8d-397fcec57a60",
   "metadata": {},
   "source": [
    "# 4. Testing the hypothesis"
   ]
  },
  {
   "cell_type": "code",
   "execution_count": 29,
   "id": "a29da758-6a5c-4280-9605-e1b724ca6db6",
   "metadata": {},
   "outputs": [
    {
     "name": "stdout",
     "output_type": "stream",
     "text": [
      "z statistic: -0.34\n",
      "p-value: 0.732\n",
      "confidence interval 95% for control group: [0.114,0.133]\n",
      "confidence interval 95% for treatment group: [0.116, 0.135]\n"
     ]
    }
   ],
   "source": [
    "from statsmodels.stats.proportion import proportions_ztest, proportion_confint\n",
    "\n",
    "control_results = ab_test[ab_test['group']== 'control']['converted']\n",
    "treatment_results = ab_test[ab_test['group']== 'treatment']['converted']\n",
    "\n",
    "n_con = control_results.count()\n",
    "n_treat = treatment_results.count()\n",
    "\n",
    "# make a list that has the values of control and treatment conversion counts\n",
    "successes = [control_results.sum(), treatment_results.sum()]\n",
    "\n",
    "# total counts (regardless the conversion)\n",
    "nobs = [n_con, n_treat]\n",
    "\n",
    "z_stat, p_val = proportions_ztest(successes, nobs)\n",
    "\n",
    "# alpha stands for significance level\n",
    "(lower_con, lower_treat),(upper_con, upper_treat) = proportion_confint(successes, nobs=nobs, alpha = 0.05)\n",
    "\n",
    "print(f'z statistic: {z_stat:.2f}')\n",
    "print(f'p-value: {p_val:.3f}')\n",
    "print(f'confidence interval 95% for control group: [{lower_con:.3f},{upper_con:.3f}]')\n",
    "print(f'confidence interval 95% for treatment group: [{lower_treat:.3f}, {upper_treat:.3f}]')"
   ]
  },
  {
   "cell_type": "markdown",
   "id": "a5e993a3-4453-4037-a44b-49a71f55541b",
   "metadata": {},
   "source": [
    "# 5. Drawing conclusions"
   ]
  },
  {
   "cell_type": "markdown",
   "id": "e61afafc-53d8-4bf5-877e-c3deb4a3d5c3",
   "metadata": {},
   "source": [
    "p-value: 0.181 is above our significance level 0.05, meaning that there is no statistically significant difference in the proportions of the outcome between the two groups.\n",
    "In other words, __we fail to reject the null hypothesis. The new design couldn't outperform the old design.__\n",
    "\n",
    "Remember, the baseline of conversion rate for the treatement group was set to 13%, and the target value was 15%. If we look at the confidence interval of the treatment group [0.114, 0.133] is 11.6% - 13.3%, which includes the baseline value 13% but not the target value 15%.\n",
    "\n",
    "This is further proof that the new design isn't likely to be an improvement on the old desin. Cheers.."
   ]
  }
 ],
 "metadata": {
  "kernelspec": {
   "display_name": "Python 3 (ipykernel)",
   "language": "python",
   "name": "python3"
  },
  "language_info": {
   "codemirror_mode": {
    "name": "ipython",
    "version": 3
   },
   "file_extension": ".py",
   "mimetype": "text/x-python",
   "name": "python",
   "nbconvert_exporter": "python",
   "pygments_lexer": "ipython3",
   "version": "3.11.3"
  }
 },
 "nbformat": 4,
 "nbformat_minor": 5
}
